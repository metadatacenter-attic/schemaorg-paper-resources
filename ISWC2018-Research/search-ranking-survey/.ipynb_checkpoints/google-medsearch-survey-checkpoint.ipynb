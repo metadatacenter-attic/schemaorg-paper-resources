{
 "cells": [
  {
   "cell_type": "markdown",
   "metadata": {},
   "source": [
    "# Google Schema.org Survey for Biomedical Queries"
   ]
  },
  {
   "cell_type": "code",
   "execution_count": 282,
   "metadata": {
    "collapsed": true
   },
   "outputs": [],
   "source": [
    "from pytrends.request import TrendReq\n",
    "from googleapiclient.discovery import build\n",
    "from collections import deque\n",
    "from math import ceil\n",
    "import pandas as pd"
   ]
  },
  {
   "cell_type": "code",
   "execution_count": 244,
   "metadata": {
    "collapsed": true
   },
   "outputs": [],
   "source": [
    "def get_popular_queries(seed_query, \n",
    "                        relevance_distance=2,\n",
    "                        popularity_threshold=55,\n",
    "                        category=45,               # category: health\n",
    "                        timeframe='today 12-m',    # timeframe: 12 months from now\n",
    "                        location='US'):            # location: United States\n",
    "    \"\"\"\n",
    "    Find the most popular queries collected by Google.\n",
    "    \n",
    "    Arguments:\n",
    "    seed_query -- inital seed query to bootstrap refined queries\n",
    "    relevance_distance -- degree of the output queries being closely related to the \n",
    "                          initial seed (default = 2)\n",
    "    popularity_threshold -- threshold to find the most popular queries (default = 55)\n",
    "    category -- topic category for the query, full list:\n",
    "                https://github.com/pat310/google-trends-api/wiki/Google-Trends-Categories\n",
    "                (default = 45 [Health])\n",
    "    timeframe -- time range for the query (default = 12 months from today)\n",
    "    location -- two letter country abbreviation of the origin of the query\n",
    "                (default = United States)\n",
    "    \n",
    "    Returns:\n",
    "    output -- a list of popular queries\n",
    "    \"\"\"\n",
    "    pytrends = TrendReq(hl='en-US', tz=360)\n",
    "    \n",
    "    seeds = deque([seed_query])\n",
    "    iteration = 0\n",
    "    while iteration < relevance_distance:\n",
    "        new_queries = set()\n",
    "        while len(seeds) > 0:\n",
    "            keyword = seeds.popleft();\n",
    "            pytrends.build_payload([keyword], cat=category, timeframe=timeframe, geo=location)\n",
    "            try:\n",
    "                top_queries = pytrends.related_queries()[keyword]['top']\n",
    "                above_threshold_queries = top_queries[top_queries['value'] >= popularity_threshold]\n",
    "                new_queries.update(above_threshold_queries['query'])\n",
    "            except TypeError:\n",
    "                pass\n",
    "        seeds.extend(new_queries)\n",
    "        iteration += 1\n",
    "    output = set(seeds)\n",
    "    return output\n",
    "        "
   ]
  },
  {
   "cell_type": "code",
   "execution_count": 261,
   "metadata": {
    "collapsed": true
   },
   "outputs": [],
   "source": [
    "def google_search(search_keyword, api_key, cse_id, **kwargs):\n",
    "    \"\"\"\n",
    "    Do a Web search using the Google Custom Search API.\n",
    "    \n",
    "    Arguments:\n",
    "    search_keyword -- search keyword string\n",
    "    api_key -- the Google API key\n",
    "    cse_id -- the custom search engine key\n",
    "    \n",
    "    Returns:\n",
    "    An search result object.\n",
    "    \"\"\"\n",
    "    service = build(\"customsearch\", \"v1\", developerKey=api_key)\n",
    "    res = service.cse().list(q=search_keyword, cx=cse_id, **kwargs).execute()\n",
    "    return res['items']"
   ]
  },
  {
   "cell_type": "code",
   "execution_count": 280,
   "metadata": {
    "collapsed": true
   },
   "outputs": [],
   "source": [
    "def survey_google_search(search_keyword, api_key, cse_id, result_size=10):\n",
    "    \"\"\"\n",
    "    Survey the rank of search results from Google.\n",
    "    \n",
    "    Arguments:\n",
    "    search_term -- search keyword string\n",
    "    api_key -- the Google API key\n",
    "    cse_id -- the custom search engine key\n",
    "    result_size -- expected search result size\n",
    "    \n",
    "    Returns:\n",
    "    output -- a dataframe about the rank of search results\n",
    "    \"\"\"\n",
    "    DEFAULT_GOOGLE_RESULT = 10\n",
    "    \n",
    "    data = []\n",
    "    rank = 1\n",
    "    iterations = ceil(result_size / DEFAULT_GOOGLE_RESULT)\n",
    "    for i in range(0, iterations):\n",
    "        results = google_search(search_keyword,\n",
    "                                api_key,\n",
    "                                cse_id,\n",
    "                                start=(i*DEFAULT_GOOGLE_RESULT)+1, \n",
    "                                num=DEFAULT_GOOGLE_RESULT)\n",
    "        for result in results:\n",
    "            data.append([rank, result['link'], result['title']])\n",
    "            rank += 1\n",
    "    return pd.DataFrame(data, columns=['rank', 'url', 'title'])"
   ]
  },
  {
   "cell_type": "markdown",
   "metadata": {},
   "source": [
    "# Test Cases"
   ]
  },
  {
   "cell_type": "code",
   "execution_count": 294,
   "metadata": {},
   "outputs": [
    {
     "data": {
      "text/plain": [
       "{'what symptoms of the flu'}"
      ]
     },
     "execution_count": 294,
     "metadata": {},
     "output_type": "execute_result"
    }
   ],
   "source": [
    "get_popular_queries(\"flu\", relevance_distance=4, popularity_threshold=90)"
   ]
  },
  {
   "cell_type": "code",
   "execution_count": 281,
   "metadata": {},
   "outputs": [
    {
     "data": {
      "text/html": [
       "<div>\n",
       "<table border=\"1\" class=\"dataframe\">\n",
       "  <thead>\n",
       "    <tr style=\"text-align: right;\">\n",
       "      <th></th>\n",
       "      <th>rank</th>\n",
       "      <th>url</th>\n",
       "      <th>title</th>\n",
       "    </tr>\n",
       "  </thead>\n",
       "  <tbody>\n",
       "    <tr>\n",
       "      <th>0</th>\n",
       "      <td>1</td>\n",
       "      <td>https://www.usatoday.com/story/news/nation-now...</td>\n",
       "      <td>2018 flu symptoms: Do I have the flu?</td>\n",
       "    </tr>\n",
       "    <tr>\n",
       "      <th>1</th>\n",
       "      <td>2</td>\n",
       "      <td>https://www.webmd.com/cold-and-flu/flu-guide/f...</td>\n",
       "      <td>Flu Symptoms, Types, and Complications of the Flu</td>\n",
       "    </tr>\n",
       "    <tr>\n",
       "      <th>2</th>\n",
       "      <td>3</td>\n",
       "      <td>https://www.healthline.com/health/cold-flu/ear...</td>\n",
       "      <td>What Are the 6 Early Flu Symptoms?</td>\n",
       "    </tr>\n",
       "    <tr>\n",
       "      <th>3</th>\n",
       "      <td>4</td>\n",
       "      <td>https://www.cnn.com/2018/01/31/health/flu-symp...</td>\n",
       "      <td>How to spot flu symptoms - CNN</td>\n",
       "    </tr>\n",
       "    <tr>\n",
       "      <th>4</th>\n",
       "      <td>5</td>\n",
       "      <td>https://www.washingtonpost.com/news/to-your-he...</td>\n",
       "      <td>Flu symptoms 2018: What to know about the flu ...</td>\n",
       "    </tr>\n",
       "    <tr>\n",
       "      <th>5</th>\n",
       "      <td>6</td>\n",
       "      <td>https://www.cdc.gov/flu/consumer/symptoms.htm</td>\n",
       "      <td>Flu Symptoms &amp; Complications | Seasonal Influe...</td>\n",
       "    </tr>\n",
       "    <tr>\n",
       "      <th>6</th>\n",
       "      <td>7</td>\n",
       "      <td>https://www.rd.com/health/wellness/flu-symptoms/</td>\n",
       "      <td>Symptoms of the Flu: How to Tell If It's the R...</td>\n",
       "    </tr>\n",
       "    <tr>\n",
       "      <th>7</th>\n",
       "      <td>8</td>\n",
       "      <td>http://www.mucinex.com/cold-and-flu-learning-c...</td>\n",
       "      <td>COMMON AND UNCOMMON SYMPTOMS OF THE FLU</td>\n",
       "    </tr>\n",
       "    <tr>\n",
       "      <th>8</th>\n",
       "      <td>9</td>\n",
       "      <td>https://www.cdc.gov/flu/takingcare.htm</td>\n",
       "      <td>The Flu: What To Do If You Get Sick | Seasonal...</td>\n",
       "    </tr>\n",
       "    <tr>\n",
       "      <th>9</th>\n",
       "      <td>10</td>\n",
       "      <td>http://www.businessinsider.com/how-to-beat-pre...</td>\n",
       "      <td>How to help beat a cold or the flu - Business ...</td>\n",
       "    </tr>\n",
       "  </tbody>\n",
       "</table>\n",
       "</div>"
      ],
      "text/plain": [
       "   rank                                                url  \\\n",
       "0     1  https://www.usatoday.com/story/news/nation-now...   \n",
       "1     2  https://www.webmd.com/cold-and-flu/flu-guide/f...   \n",
       "2     3  https://www.healthline.com/health/cold-flu/ear...   \n",
       "3     4  https://www.cnn.com/2018/01/31/health/flu-symp...   \n",
       "4     5  https://www.washingtonpost.com/news/to-your-he...   \n",
       "5     6      https://www.cdc.gov/flu/consumer/symptoms.htm   \n",
       "6     7   https://www.rd.com/health/wellness/flu-symptoms/   \n",
       "7     8  http://www.mucinex.com/cold-and-flu-learning-c...   \n",
       "8     9             https://www.cdc.gov/flu/takingcare.htm   \n",
       "9    10  http://www.businessinsider.com/how-to-beat-pre...   \n",
       "\n",
       "                                               title  \n",
       "0              2018 flu symptoms: Do I have the flu?  \n",
       "1  Flu Symptoms, Types, and Complications of the Flu  \n",
       "2                 What Are the 6 Early Flu Symptoms?  \n",
       "3                     How to spot flu symptoms - CNN  \n",
       "4  Flu symptoms 2018: What to know about the flu ...  \n",
       "5  Flu Symptoms & Complications | Seasonal Influe...  \n",
       "6  Symptoms of the Flu: How to Tell If It's the R...  \n",
       "7            COMMON AND UNCOMMON SYMPTOMS OF THE FLU  \n",
       "8  The Flu: What To Do If You Get Sick | Seasonal...  \n",
       "9  How to help beat a cold or the flu - Business ...  "
      ]
     },
     "execution_count": 281,
     "metadata": {},
     "output_type": "execute_result"
    }
   ],
   "source": [
    "my_api_key = \"\"\n",
    "my_cse_id = \"\"\n",
    "survey_google_search('what symptoms of the flu', my_api_key, my_cse_id)"
   ]
  }
 ],
 "metadata": {
  "kernelspec": {
   "display_name": "Python 3",
   "language": "python",
   "name": "python3"
  },
  "language_info": {
   "codemirror_mode": {
    "name": "ipython",
    "version": 3
   },
   "file_extension": ".py",
   "mimetype": "text/x-python",
   "name": "python",
   "nbconvert_exporter": "python",
   "pygments_lexer": "ipython3",
   "version": "3.4.5"
  }
 },
 "nbformat": 4,
 "nbformat_minor": 2
}
